{
  "nbformat": 4,
  "nbformat_minor": 0,
  "metadata": {
    "colab": {
      "provenance": []
    },
    "kernelspec": {
      "name": "python3",
      "display_name": "Python 3"
    },
    "language_info": {
      "name": "python"
    }
  },
  "cells": [
    {
      "cell_type": "markdown",
      "source": [
        "#  Question 1"
      ],
      "metadata": {
        "id": "_dkpe6HpCe7d"
      }
    },
    {
      "cell_type": "markdown",
      "source": [
        "Build a program to manage a university's course catalog. You want to define a base class Course that has the following properties:\n",
        "course_code: a string representing the course code (e.g., \"CS101\")\n",
        "course_name: a string representing the course name (e.g., \"Introduction to Computer Science\")\n",
        "credit_hours: an integer representing the credit hours for the course (e.g., 3)\n",
        "You also want to define two subclasses CoreCourse and ElectiveCourse, which inherit from the Course class.\n",
        "CoreCourse should have an additional property required_for_major which is a boolean representing whether the course is required for a particular major.\n",
        "ElectiveCourse should have an additional property elective_type which is a string representing the type of elective (e.g., \"general\", \"technical\", \"liberal arts\").\n"
      ],
      "metadata": {
        "id": "VpMOe56uCDWi"
      }
    },
    {
      "cell_type": "code",
      "execution_count": null,
      "metadata": {
        "colab": {
          "base_uri": "https://localhost:8080/"
        },
        "id": "9W2--iidAGMI",
        "outputId": "c57f9c38-fdc3-4f5d-dbe0-92570ed32d07"
      },
      "outputs": [
        {
          "output_type": "stream",
          "name": "stdout",
          "text": [
            "CS101: Introduction to Computer Science (3 credits) - Required for Major: True\n",
            "ENG200: Creative Writing (3 credits) - Elective Type: Liberal Arts\n"
          ]
        }
      ],
      "source": [
        "# Base class Course\n",
        "class Course:\n",
        "   def __init__(self, course_code, course_name, credit_hours):\n",
        "        self.course_code = course_code\n",
        "        self.course_name = course_name\n",
        "        self.credit_hours = credit_hours\n",
        "\n",
        "   def __str__(self):\n",
        "        return f\"{self.course_code}: {self.course_name} ({self.credit_hours} credits)\"\n",
        "\n",
        "# Subclass CoreCourse\n",
        "class CoreCourse(Course):\n",
        "    def __init__(self, course_code, course_name, credit_hours, required_for_major):\n",
        "        # Call the constructor of the base class (Course)\n",
        "        super().__init__(course_code, course_name, credit_hours)\n",
        "        # Additional attribute specific to CoreCourse\n",
        "        self.required_for_major = required_for_major\n",
        "\n",
        "    def __str__(self):\n",
        "        return super().__str__() + f\" - Required for Major: {self.required_for_major}\"\n",
        "\n",
        "# Subclass ElectiveCourse\n",
        "class ElectiveCourse(Course):\n",
        "    def __init__(self, course_code, course_name, credit_hours, elective_type):\n",
        "        # Call the constructor of the base class (Course)\n",
        "        super().__init__(course_code, course_name, credit_hours)\n",
        "        # Additional attribute specific to ElectiveCourse\n",
        "        self.elective_type = elective_type\n",
        "\n",
        "    def __str__(self):\n",
        "        return super().__str__() + f\" - Elective Type: {self.elective_type}\"\n",
        "\n",
        "# Example usage:\n",
        "# Creating CoreCourse and ElectiveCourse instances\n",
        "\n",
        "core_course = CoreCourse(\"CS101\", \"Introduction to Computer Science\", 3, True)\n",
        "elective_course = ElectiveCourse(\"ENG200\", \"Creative Writing\", 3, \"Liberal Arts\")\n",
        "\n",
        "# Printing course details\n",
        "print(core_course)  # Output: CS101: Introduction to Computer Science (3 credits) - Required for Major: True\n",
        "print(elective_course)  # Output: ENG200: Creative Writing (3 credits) - Elective Type: Liberal Arts\n"
      ]
    },
    {
      "cell_type": "markdown",
      "source": [
        "## ***Question 2***"
      ],
      "metadata": {
        "id": "Qw8OXjJ-DEeR"
      }
    },
    {
      "cell_type": "markdown",
      "source": [
        "Create a Python module named employee that contains a class Employee with attributes name, salary and methods get_name() and get_salary(). Write a program to use this module to create an object of the Employee class and display its name and salary."
      ],
      "metadata": {
        "id": "6L-Xt9q1DnJU"
      }
    },
    {
      "cell_type": "code",
      "source": [
        "class Employees:\n",
        "    def __init__(self, name, salary):\n",
        "        self.name = name\n",
        "        self.salary = salary\n",
        "\n",
        "    def get_name(self):\n",
        "        return self.name\n",
        "\n",
        "    def get_salary(self):\n",
        "        return self.salary\n",
        "\n",
        "# Creating Employee instances\n",
        "Emp1 = Employees(\"Abhi\", \"10000\")\n",
        "Emp2 = Employees(\"Mahesh\", \"16000\")\n",
        "\n",
        "# Accessing and printing the name and salary\n",
        "print(Emp1.get_name())\n",
        "print(Emp1.get_salary())\n",
        "print(Emp2.get_name())\n",
        "print(Emp2.get_salary())"
      ],
      "metadata": {
        "id": "JJXLTyA-4lHA",
        "colab": {
          "base_uri": "https://localhost:8080/"
        },
        "outputId": "dc7891ab-2668-4216-bd04-91eaf6708048"
      },
      "execution_count": 1,
      "outputs": [
        {
          "output_type": "stream",
          "name": "stdout",
          "text": [
            "Abhi\n",
            "10000\n",
            "Mahesh\n",
            "16000\n"
          ]
        }
      ]
    }
  ]
}